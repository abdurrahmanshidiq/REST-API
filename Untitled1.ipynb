{
 "cells": [
  {
   "cell_type": "code",
   "execution_count": 2,
   "metadata": {},
   "outputs": [],
   "source": [
    "import requests\n"
   ]
  },
  {
   "cell_type": "code",
   "execution_count": 3,
   "metadata": {},
   "outputs": [
    {
     "name": "stdout",
     "output_type": "stream",
     "text": [
      "Input City: jakarta\n"
     ]
    }
   ],
   "source": [
    "city = input('Input City: ')\n",
    "url_city = f'https://developers.zomato.com/api/v2.1/cities?q={city}'\n",
    "keys = 'b567fe1dac64fd218ff1f82befc5f272'\n",
    "head_info = {\n",
    "    'user-key':keys\n",
    "}\n",
    "data_city = requests.get(url_city, headers=head_info)\n",
    "city_id = data_city.json()['location_suggestions'][0]['id']\n",
    "\n"
   ]
  },
  {
   "cell_type": "code",
   "execution_count": 4,
   "metadata": {},
   "outputs": [
    {
     "name": "stdout",
     "output_type": "stream",
     "text": [
      "What do you want to eat?: burger\n"
     ]
    }
   ],
   "source": [
    "food = input('What do you want to eat?: ')\n",
    "url_food = f'https://developers.zomato.com/api/v2.1/search?entity_id={city_id}&entity_type=city&q={food}'\n",
    "data_food = requests.get(url_food, headers=head_info)\n",
    "\n",
    "food_list = [['No', 'Restaurant_Name', 'Restaurant_Address', 'Cuisines', 'Rating']]\n",
    "result_found = data_food.json()['results_shown']\n",
    "for i in range(result_found):\n",
    "    rest_list = []\n",
    "    rest_list.append(i+1)\n",
    "    rest_list.append(data_food.json()['restaurants'][i]['restaurant']['name'])\n",
    "    rest_list.append(data_food.json()['restaurants'][i]['restaurant']['location']['address'])\n",
    "    rest_list.append(data_food.json()['restaurants'][i]['restaurant']['cuisines'])\n",
    "    rest_list.append(data_food.json()['restaurants'][i]['restaurant']['user_rating']['aggregate_rating'])\n",
    "    food_list.append(rest_list)"
   ]
  },
  {
   "cell_type": "code",
   "execution_count": null,
   "metadata": {},
   "outputs": [],
   "source": []
  }
 ],
 "metadata": {
  "kernelspec": {
   "display_name": "Python 3",
   "language": "python",
   "name": "python3"
  },
  "language_info": {
   "codemirror_mode": {
    "name": "ipython",
    "version": 3
   },
   "file_extension": ".py",
   "mimetype": "text/x-python",
   "name": "python",
   "nbconvert_exporter": "python",
   "pygments_lexer": "ipython3",
   "version": "3.7.4"
  }
 },
 "nbformat": 4,
 "nbformat_minor": 2
}
